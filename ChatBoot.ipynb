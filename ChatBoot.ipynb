{
  "nbformat": 4,
  "nbformat_minor": 0,
  "metadata": {
    "colab": {
      "provenance": [],
      "authorship_tag": "ABX9TyOkOn6GQ7saRIQ49F/Cu/DW",
      "include_colab_link": true
    },
    "kernelspec": {
      "name": "python3",
      "display_name": "Python 3"
    },
    "language_info": {
      "name": "python"
    }
  },
  "cells": [
    {
      "cell_type": "markdown",
      "metadata": {
        "id": "view-in-github",
        "colab_type": "text"
      },
      "source": [
        "<a href=\"https://colab.research.google.com/github/rodrigoroncoleta/ChatBotGemini/blob/main/ChatBoot.ipynb\" target=\"_parent\"><img src=\"https://colab.research.google.com/assets/colab-badge.svg\" alt=\"Open In Colab\"/></a>"
      ]
    },
    {
      "cell_type": "markdown",
      "source": [
        "Instalando o SDK do google"
      ],
      "metadata": {
        "id": "NB__inHhLmpG"
      }
    },
    {
      "cell_type": "code",
      "execution_count": 2,
      "metadata": {
        "id": "6AKphMX9IEts"
      },
      "outputs": [],
      "source": [
        "pip install -q -U google-generativeai"
      ]
    },
    {
      "cell_type": "code",
      "source": [
        "import google.generativeai as genai\n",
        "\n",
        "GOOGLE_API_KEY = \"your api key ai gemini\"\n",
        "genai.configure(api_key=GOOGLE_API_KEY)"
      ],
      "metadata": {
        "id": "Ejk6LkKUL7iv"
      },
      "execution_count": 22,
      "outputs": []
    },
    {
      "cell_type": "markdown",
      "source": [
        "listar os modelos disponíveis"
      ],
      "metadata": {
        "id": "28NR9Q5ZMnmV"
      }
    },
    {
      "cell_type": "code",
      "source": [
        "for m in genai.list_models():\n",
        "  if \"generateContent\" in m.supported_generation_methods:\n",
        "    print(m.name)"
      ],
      "metadata": {
        "colab": {
          "base_uri": "https://localhost:8080/",
          "height": 139
        },
        "id": "ZTnBghS0MipS",
        "outputId": "54bdfac2-95a9-47d5-d568-77766ed6e3a8"
      },
      "execution_count": 4,
      "outputs": [
        {
          "output_type": "stream",
          "name": "stdout",
          "text": [
            "models/gemini-1.0-pro\n",
            "models/gemini-1.0-pro-001\n",
            "models/gemini-1.0-pro-latest\n",
            "models/gemini-1.0-pro-vision-latest\n",
            "models/gemini-1.5-pro-latest\n",
            "models/gemini-pro\n",
            "models/gemini-pro-vision\n"
          ]
        }
      ]
    },
    {
      "cell_type": "markdown",
      "source": [
        "\"candidate_count\": 1 = quando faz um pedido ele da várias respostas, queremos só 1"
      ],
      "metadata": {
        "id": "3xZwibQRPjRM"
      }
    },
    {
      "cell_type": "code",
      "source": [
        "configuracao = {\n",
        "    \"candidate_count\": 1,\n",
        "    \"temperature\": 0.5,\n",
        "}"
      ],
      "metadata": {
        "id": "RPSLFPmkOrnW"
      },
      "execution_count": 5,
      "outputs": []
    },
    {
      "cell_type": "code",
      "source": [
        "configuracoesSeguranca = {\n",
        "    \"Harassment\": \"BLOCK_NONE\",\n",
        "    \"Hate\": \"BLOCK_NONE\",\n",
        "    \"Sexual\": \"BLOCK_NONE\",\n",
        "    \"Dangerous\": \"BLOCK_NONE\"\n",
        "}"
      ],
      "metadata": {
        "id": "Jc05hE1RP9SD"
      },
      "execution_count": 6,
      "outputs": []
    },
    {
      "cell_type": "markdown",
      "source": [
        "Inicializando o modelo"
      ],
      "metadata": {
        "id": "J42vjZmXQ7Oh"
      }
    },
    {
      "cell_type": "code",
      "source": [
        "model = genai.GenerativeModel(model_name=\"gemini-1.0-pro\",\n",
        "                              generation_config=configuracao,\n",
        "                              safety_settings=configuracoesSeguranca)"
      ],
      "metadata": {
        "id": "ctSHEfBkQ_kk"
      },
      "execution_count": 7,
      "outputs": []
    },
    {
      "cell_type": "code",
      "source": [
        "response = model.generate_content(\"Vamos aprender conteúdo sobre IA. Me dê sugestões.\")\n",
        "print(response.text)"
      ],
      "metadata": {
        "colab": {
          "base_uri": "https://localhost:8080/",
          "height": 798
        },
        "id": "gqjuRyLTSm2p",
        "outputId": "1b303aaf-f366-4b9c-8bd3-ad77e1f8d8d8"
      },
      "execution_count": 8,
      "outputs": [
        {
          "output_type": "stream",
          "name": "stdout",
          "text": [
            "**Conceitos Básicos**\n",
            "\n",
            "* Definição de Inteligência Artificial (IA)\n",
            "* Tipos de IA: IA fraca, IA forte, IA geral\n",
            "* Aprendizado de máquina, aprendizado profundo e redes neurais\n",
            "* Processamento de linguagem natural (PNL) e visão computacional\n",
            "\n",
            "**Aplicações da IA**\n",
            "\n",
            "* Reconhecimento de imagem e fala\n",
            "* Tradução de idiomas\n",
            "* Diagnóstico médico\n",
            "* Veículos autônomos\n",
            "* Robótica e automação\n",
            "\n",
            "**Ética e Implicações Sociais**\n",
            "\n",
            "* Preocupações éticas sobre IA, como viés e discriminação\n",
            "* Impacto da IA no mercado de trabalho e na sociedade\n",
            "* Regulamentações e políticas para o uso responsável da IA\n",
            "\n",
            "**Técnicas e Algoritmos**\n",
            "\n",
            "* Algoritmos de aprendizado de máquina: regressão, classificação, agrupamento\n",
            "* Redes neurais convolucionais (CNNs) e redes neurais recorrentes (RNNs)\n",
            "* Técnicas de otimização: gradiente descendente, propagação retroativa\n",
            "* Processamento de dados para IA\n",
            "\n",
            "**Ferramentas e Bibliotecas**\n",
            "\n",
            "* Linguagens de programação para IA: Python, R\n",
            "* Bibliotecas de aprendizado de máquina: TensorFlow, PyTorch, Scikit-learn\n",
            "* Ferramentas de visualização de dados: Tableau, Power BI\n",
            "\n",
            "**Tendências e Avanços**\n",
            "\n",
            "* IA generativa: modelos de linguagem grandes (LLMs) e arte gerada por IA\n",
            "* IA quântica\n",
            "* IA responsável e ética\n",
            "\n",
            "**Recursos Adicionais**\n",
            "\n",
            "* Cursos online: Coursera, edX, Udemy\n",
            "* Livros: \"Inteligência Artificial: Uma Abordagem Moderna\" (Stuart Russell e Peter Norvig), \"Aprendizado de Máquina\" (Tom Mitchell)\n",
            "* Revistas científicas: Nature Machine Intelligence, IEEE Transactions on Artificial Intelligence\n"
          ]
        }
      ]
    },
    {
      "cell_type": "code",
      "source": [
        "chat = model.start_chat(history=[])"
      ],
      "metadata": {
        "id": "fZgI4RbQTfLx"
      },
      "execution_count": 15,
      "outputs": []
    },
    {
      "cell_type": "code",
      "source": [
        "prompt = input(\"Esperando prompt:\" )\n",
        "\n",
        "while prompt != \"fim\":\n",
        "  response = chat.send_message(prompt)\n",
        "  print(\"Resposta: \", response.text, \"\\n\")\n",
        "  prompt = input(\"Esperando prompt:\" )\n"
      ],
      "metadata": {
        "colab": {
          "base_uri": "https://localhost:8080/",
          "height": 191
        },
        "id": "vePn6H7nU4yr",
        "outputId": "60b095ee-fb9d-4e0a-a40f-3086c14663d7"
      },
      "execution_count": 16,
      "outputs": [
        {
          "name": "stdout",
          "output_type": "stream",
          "text": [
            "Esperando prompt:qual capital do japão?\n",
            "Resposta:  Tóquio \n",
            "\n",
            "Esperando prompt:qual tamanho da população dessa capital?\n",
            "Resposta:  13.960.307 habitantes (2023) \n",
            "\n",
            "Esperando prompt:qual nacionalidade de quem nasce nesse pais?\n",
            "Resposta:  Japonesa \n",
            "\n",
            "Esperando prompt:fim\n"
          ]
        }
      ]
    },
    {
      "cell_type": "code",
      "source": [
        "chat.history"
      ],
      "metadata": {
        "colab": {
          "base_uri": "https://localhost:8080/"
        },
        "id": "nT8VNEzDgQ8a",
        "outputId": "3d4867aa-cea0-4669-dba2-a9be8581915a"
      },
      "execution_count": 17,
      "outputs": [
        {
          "output_type": "execute_result",
          "data": {
            "text/plain": [
              "[parts {\n",
              "   text: \"qual capital do jap\\303\\243o?\"\n",
              " }\n",
              " role: \"user\",\n",
              " parts {\n",
              "   text: \"T\\303\\263quio\"\n",
              " }\n",
              " role: \"model\",\n",
              " parts {\n",
              "   text: \"qual tamanho da popula\\303\\247\\303\\243o dessa capital?\"\n",
              " }\n",
              " role: \"user\",\n",
              " parts {\n",
              "   text: \"13.960.307 habitantes (2023)\"\n",
              " }\n",
              " role: \"model\",\n",
              " parts {\n",
              "   text: \"qual nacionalidade de quem nasce nesse pais?\"\n",
              " }\n",
              " role: \"user\",\n",
              " parts {\n",
              "   text: \"Japonesa\"\n",
              " }\n",
              " role: \"model\"]"
            ]
          },
          "metadata": {},
          "execution_count": 17
        }
      ]
    },
    {
      "cell_type": "code",
      "source": [
        "#Melhorando a visualização\n",
        "#Código disponível em https://ai.google.dev/tutorials/python_quickstart#import_packages\n",
        "import textwrap\n",
        "from IPython.display import display\n",
        "from IPython.display import Markdown\n",
        "\n",
        "def to_markdown(text):\n",
        "  text = text.replace('•', '  *')\n",
        "  return Markdown(textwrap.indent(text, '> ', predicate=lambda _: True))\n",
        "\n",
        "#Imprimindo o histórico\n",
        "for message in chat.history:\n",
        "  display(to_markdown(f'**{message.role}**: {message.parts[0].text}'))\n",
        "  print('-------------------------------------------')"
      ],
      "metadata": {
        "colab": {
          "base_uri": "https://localhost:8080/",
          "height": 393
        },
        "id": "nrdghZIQhQhh",
        "outputId": "1af8210b-f49b-483f-aff5-d2b1a807cc69"
      },
      "execution_count": 21,
      "outputs": [
        {
          "output_type": "display_data",
          "data": {
            "text/plain": [
              "<IPython.core.display.Markdown object>"
            ],
            "text/markdown": "> **user**: qual capital do japão?"
          },
          "metadata": {}
        },
        {
          "output_type": "stream",
          "name": "stdout",
          "text": [
            "-------------------------------------------\n"
          ]
        },
        {
          "output_type": "display_data",
          "data": {
            "text/plain": [
              "<IPython.core.display.Markdown object>"
            ],
            "text/markdown": "> **model**: Tóquio"
          },
          "metadata": {}
        },
        {
          "output_type": "stream",
          "name": "stdout",
          "text": [
            "-------------------------------------------\n"
          ]
        },
        {
          "output_type": "display_data",
          "data": {
            "text/plain": [
              "<IPython.core.display.Markdown object>"
            ],
            "text/markdown": "> **user**: qual tamanho da população dessa capital?"
          },
          "metadata": {}
        },
        {
          "output_type": "stream",
          "name": "stdout",
          "text": [
            "-------------------------------------------\n"
          ]
        },
        {
          "output_type": "display_data",
          "data": {
            "text/plain": [
              "<IPython.core.display.Markdown object>"
            ],
            "text/markdown": "> **model**: 13.960.307 habitantes (2023)"
          },
          "metadata": {}
        },
        {
          "output_type": "stream",
          "name": "stdout",
          "text": [
            "-------------------------------------------\n"
          ]
        },
        {
          "output_type": "display_data",
          "data": {
            "text/plain": [
              "<IPython.core.display.Markdown object>"
            ],
            "text/markdown": "> **user**: qual nacionalidade de quem nasce nesse pais?"
          },
          "metadata": {}
        },
        {
          "output_type": "stream",
          "name": "stdout",
          "text": [
            "-------------------------------------------\n"
          ]
        },
        {
          "output_type": "display_data",
          "data": {
            "text/plain": [
              "<IPython.core.display.Markdown object>"
            ],
            "text/markdown": "> **model**: Japonesa"
          },
          "metadata": {}
        },
        {
          "output_type": "stream",
          "name": "stdout",
          "text": [
            "-------------------------------------------\n"
          ]
        }
      ]
    }
  ]
}